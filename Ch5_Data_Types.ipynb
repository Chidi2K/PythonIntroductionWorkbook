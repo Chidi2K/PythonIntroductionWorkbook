{
 "cells": [
  {
   "cell_type": "markdown",
   "metadata": {},
   "source": [
    "## Data Types\n",
    "\n",
    "**TRY THIS:**\n",
    "```python\n",
    "x=input(\"Give me a number\") \n",
    "while x>=1: \n",
    "\tprint(\"SPAM\")\n",
    "    x = x-1\n",
    "```"
   ]
  },
  {
   "cell_type": "code",
   "execution_count": null,
   "metadata": {
    "collapsed": true
   },
   "outputs": [],
   "source": []
  },
  {
   "cell_type": "markdown",
   "metadata": {},
   "source": [
    "### Task 1: Explaining the code\n",
    "What is the code above doing?\n",
    "<p>\n",
    "*enter your answer here*"
   ]
  },
  {
   "cell_type": "markdown",
   "metadata": {},
   "source": [
    "This error occurs as the input data type is a **string** and the code is expecting an **integer**. It is possible to change the data type of the input as follows:\n",
    "\n",
    "```python\n",
    "x=int(input(\"Example\")) \n",
    "```\n",
    "\n",
    "### Task 2: Debug your code\n",
    "Debug the previous code and write your solution below:"
   ]
  },
  {
   "cell_type": "code",
   "execution_count": null,
   "metadata": {
    "collapsed": true
   },
   "outputs": [],
   "source": []
  },
  {
   "cell_type": "markdown",
   "metadata": {},
   "source": [
    "### Task 3: Sentence repeat program\n",
    "Create a program that asks the user to enter a number of times that a sentence will be displayed, and then displays it that many times.\n",
    "\n",
    "Code your solution below:"
   ]
  },
  {
   "cell_type": "code",
   "execution_count": null,
   "metadata": {
    "collapsed": true
   },
   "outputs": [],
   "source": []
  },
  {
   "cell_type": "markdown",
   "metadata": {},
   "source": [
    "### Task 4: Rocket launch program\n",
    "Create a program that counts down to the take off of a rocket. It should ask the user what they want it to count down from and count down to zero. asks the user to enter a number of times that a the sentence. It should display the following:\n",
    "<p>\n",
    "- The rocket will be launched in 8\n",
    "- The rocket will be launched in 7\n",
    "- The rocket will be launched in 6\n",
    "- etc…\n",
    "\n",
    "Code your solution below:"
   ]
  },
  {
   "cell_type": "code",
   "execution_count": null,
   "metadata": {
    "collapsed": true
   },
   "outputs": [],
   "source": []
  }
 ],
 "metadata": {
  "kernelspec": {
   "display_name": "Python 3",
   "language": "python",
   "name": "python3"
  },
  "language_info": {
   "codemirror_mode": {
    "name": "ipython",
    "version": 3
   },
   "file_extension": ".py",
   "mimetype": "text/x-python",
   "name": "python",
   "nbconvert_exporter": "python",
   "pygments_lexer": "ipython3",
   "version": "3.5.2"
  }
 },
 "nbformat": 4,
 "nbformat_minor": 2
}
